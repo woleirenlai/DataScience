{
 "cells": [
  {
   "cell_type": "markdown",
   "metadata": {},
   "source": [
    "# 项目：TMDB电影数据探索与分析\n",
    "\n",
    "## 目录\n",
    "<ul>\n",
    "<li><a href=\"#intro\">简介</a></li>\n",
    "<li><a href=\"#wrangling\">数据整理</a></li>\n",
    "<li><a href=\"#eda\">探索性数据分析</a></li>\n",
    "<li><a href=\"#conclusions\">结论</a></li>\n",
    "</ul>\n",
    "\n",
    "<a id='intro'></a>\n",
    "## 简介\n",
    "\n",
    "\n",
    ">本报告探索的数据集来源为“电影数据库”（TMDb，The Movie Database），其中包含 1 万条电影信息，包括用户评分和票房等等。本报告对TMDB中的电影类别和票房进行了探索分析，并得出了一些结论。"
   ]
  },
  {
   "cell_type": "code",
   "execution_count": 1,
   "metadata": {},
   "outputs": [],
   "source": [
    "# 用这个框对你计划使用的所有数据包进行设置\n",
    "#   导入语句。\n",
    "import pandas as pd\n",
    "import numpy as np\n",
    "import matplotlib.pyplot as plt\n",
    "%matplotlib inline\n",
    "#更改字体\n",
    "plt.rcParams['font.sans-serif'] = ['SimHei']\n",
    "# 务必包含一个‘magic word’（带有“%”的***），以便将你的视图\n",
    "#   与 notebook 保持一致。关于更多信息，请访问该网页：\n",
    "#   http://ipython.readthedocs.io/en/stable/interactive/magics.html"
   ]
  },
  {
   "cell_type": "markdown",
   "metadata": {},
   "source": [
    "<a id='wrangling'></a>\n",
    "## 数据整理\n",
    "\n",
    "> 载入数据，并对数据进行理解和评估，检查简洁度，然后整理和清理数据集，以便进行分析。\n",
    "\n",
    "### 常规属性"
   ]
  },
  {
   "cell_type": "code",
   "execution_count": 2,
   "metadata": {},
   "outputs": [],
   "source": [
    "# 加载数据并打印几行。进行这几项操作，来检查数据\n",
    "# 类型，以及是否有缺失数据或错误数据的情况。\n",
    "tmdb = pd.read_csv('tmdb-movies.csv')"
   ]
  },
  {
   "cell_type": "code",
   "execution_count": 3,
   "metadata": {},
   "outputs": [
    {
     "data": {
      "text/html": [
       "<div>\n",
       "<style scoped>\n",
       "    .dataframe tbody tr th:only-of-type {\n",
       "        vertical-align: middle;\n",
       "    }\n",
       "\n",
       "    .dataframe tbody tr th {\n",
       "        vertical-align: top;\n",
       "    }\n",
       "\n",
       "    .dataframe thead th {\n",
       "        text-align: right;\n",
       "    }\n",
       "</style>\n",
       "<table border=\"1\" class=\"dataframe\">\n",
       "  <thead>\n",
       "    <tr style=\"text-align: right;\">\n",
       "      <th></th>\n",
       "      <th>id</th>\n",
       "      <th>imdb_id</th>\n",
       "      <th>popularity</th>\n",
       "      <th>budget</th>\n",
       "      <th>revenue</th>\n",
       "      <th>original_title</th>\n",
       "      <th>cast</th>\n",
       "      <th>homepage</th>\n",
       "      <th>director</th>\n",
       "      <th>tagline</th>\n",
       "      <th>...</th>\n",
       "      <th>overview</th>\n",
       "      <th>runtime</th>\n",
       "      <th>genres</th>\n",
       "      <th>production_companies</th>\n",
       "      <th>release_date</th>\n",
       "      <th>vote_count</th>\n",
       "      <th>vote_average</th>\n",
       "      <th>release_year</th>\n",
       "      <th>budget_adj</th>\n",
       "      <th>revenue_adj</th>\n",
       "    </tr>\n",
       "  </thead>\n",
       "  <tbody>\n",
       "    <tr>\n",
       "      <th>0</th>\n",
       "      <td>135397</td>\n",
       "      <td>tt0369610</td>\n",
       "      <td>32.985763</td>\n",
       "      <td>150000000</td>\n",
       "      <td>1513528810</td>\n",
       "      <td>Jurassic World</td>\n",
       "      <td>Chris Pratt|Bryce Dallas Howard|Irrfan Khan|Vi...</td>\n",
       "      <td>http://www.jurassicworld.com/</td>\n",
       "      <td>Colin Trevorrow</td>\n",
       "      <td>The park is open.</td>\n",
       "      <td>...</td>\n",
       "      <td>Twenty-two years after the events of Jurassic ...</td>\n",
       "      <td>124</td>\n",
       "      <td>Action|Adventure|Science Fiction|Thriller</td>\n",
       "      <td>Universal Studios|Amblin Entertainment|Legenda...</td>\n",
       "      <td>6/9/15</td>\n",
       "      <td>5562</td>\n",
       "      <td>6.5</td>\n",
       "      <td>2015</td>\n",
       "      <td>1.379999e+08</td>\n",
       "      <td>1.392446e+09</td>\n",
       "    </tr>\n",
       "  </tbody>\n",
       "</table>\n",
       "<p>1 rows × 21 columns</p>\n",
       "</div>"
      ],
      "text/plain": [
       "       id    imdb_id  popularity     budget     revenue  original_title  \\\n",
       "0  135397  tt0369610   32.985763  150000000  1513528810  Jurassic World   \n",
       "\n",
       "                                                cast  \\\n",
       "0  Chris Pratt|Bryce Dallas Howard|Irrfan Khan|Vi...   \n",
       "\n",
       "                        homepage         director            tagline  \\\n",
       "0  http://www.jurassicworld.com/  Colin Trevorrow  The park is open.   \n",
       "\n",
       "       ...                                                overview runtime  \\\n",
       "0      ...       Twenty-two years after the events of Jurassic ...     124   \n",
       "\n",
       "                                      genres  \\\n",
       "0  Action|Adventure|Science Fiction|Thriller   \n",
       "\n",
       "                                production_companies release_date vote_count  \\\n",
       "0  Universal Studios|Amblin Entertainment|Legenda...       6/9/15       5562   \n",
       "\n",
       "   vote_average  release_year    budget_adj   revenue_adj  \n",
       "0           6.5          2015  1.379999e+08  1.392446e+09  \n",
       "\n",
       "[1 rows x 21 columns]"
      ]
     },
     "execution_count": 3,
     "metadata": {},
     "output_type": "execute_result"
    }
   ],
   "source": [
    "#查看数据基本情况\n",
    "#查看第一行\n",
    "tmdb.head(1)"
   ]
  },
  {
   "cell_type": "markdown",
   "metadata": {},
   "source": [
    "从原始数据集第一行可以看出，原始数据集一共有21列，查看一下数据集基本情况。"
   ]
  },
  {
   "cell_type": "code",
   "execution_count": 4,
   "metadata": {},
   "outputs": [
    {
     "name": "stdout",
     "output_type": "stream",
     "text": [
      "<class 'pandas.core.frame.DataFrame'>\n",
      "RangeIndex: 10866 entries, 0 to 10865\n",
      "Data columns (total 21 columns):\n",
      "id                      10866 non-null int64\n",
      "imdb_id                 10856 non-null object\n",
      "popularity              10866 non-null float64\n",
      "budget                  10866 non-null int64\n",
      "revenue                 10866 non-null int64\n",
      "original_title          10866 non-null object\n",
      "cast                    10790 non-null object\n",
      "homepage                2936 non-null object\n",
      "director                10822 non-null object\n",
      "tagline                 8042 non-null object\n",
      "keywords                9373 non-null object\n",
      "overview                10862 non-null object\n",
      "runtime                 10866 non-null int64\n",
      "genres                  10843 non-null object\n",
      "production_companies    9836 non-null object\n",
      "release_date            10866 non-null object\n",
      "vote_count              10866 non-null int64\n",
      "vote_average            10866 non-null float64\n",
      "release_year            10866 non-null int64\n",
      "budget_adj              10866 non-null float64\n",
      "revenue_adj             10866 non-null float64\n",
      "dtypes: float64(4), int64(6), object(11)\n",
      "memory usage: 1.7+ MB\n"
     ]
    }
   ],
   "source": [
    "#查看数据集基本信息\n",
    "tmdb.info()"
   ]
  },
  {
   "cell_type": "markdown",
   "metadata": {},
   "source": [
    "根据数据集基本信息可以看出，此原始数据集一共有21列，10866条数据，其中imdb_id、cast、homepage、director、tagline、keywords、overview、genres、production_companies列存在数据缺失，参考项目提供的[探索数据集文档](<https://github.com/udacity/new-dand-basic-china/blob/master/%E6%95%B0%E6%8D%AE%E5%88%86%E6%9E%90%E5%85%A5%E9%97%A8/%E9%A1%B9%E7%9B%AE-%E6%8E%A2%E7%B4%A2%E6%95%B0%E6%8D%AE%E9%9B%86/%E6%8E%A2%E7%B4%A2%E6%95%B0%E6%8D%AE%E9%9B%86%20-%20%E5%A4%87%E9%80%89%E6%95%B0%E6%8D%AE%E9%9B%86.md>)，对数据进行理解并提出需要探索的问题。"
   ]
  },
  {
   "cell_type": "markdown",
   "metadata": {},
   "source": [
    "### **数据理解**\n",
    "数据集各列代表含义为：\n",
    "- id    编号\n",
    "- imdb_id    电影编号\n",
    "- popularity    受欢迎程度\n",
    "- budget    预算\n",
    "- revenue    收入\n",
    "- original_title    电影标题\n",
    "- cast    演职人员，包含由竖线字符\"|\"分隔的多个数值\n",
    "- homepage    电影主页\n",
    "- director    导演\n",
    "- tagline    电影标语\n",
    "- keywords    电影关键词\n",
    "- overview    电影内容概要\n",
    "- runtime    电影时长\n",
    "- genres    电影类别，包含由竖线字符(|)分隔的多个数值 \n",
    "- production_companies     电影制造公司，包含由竖线字符(|)分隔的多个数值\n",
    "- release_date    上映时间\n",
    "- vote_count    参与评分的人数\n",
    "- vote_average    评分均值\n",
    "- release_year    上映年份\n",
    "- budget_adj    考虑了通货膨胀之后的相关电影的预算\n",
    "- revenue_adj    考虑了通货膨胀之后的相关电影的收入"
   ]
  },
  {
   "cell_type": "markdown",
   "metadata": {},
   "source": [
    "### **提出问题**\n",
    "根据数据集各列含义，提出本报告需要进行探索的问题\n",
    "\n",
    "1. 对电影类别进行分析，电影类别有哪些？那种类别的电影最多？哪种类别的电影更受欢迎？\n",
    "2. 票房高的电影有哪些特点？"
   ]
  },
  {
   "cell_type": "markdown",
   "metadata": {},
   "source": [
    "### 数据清理\n",
    "\n",
    "1.根据原始数据集情况以及需要分析的问题，删除不需要的数据列。  \n",
    "对于预算和收入，选择考虑通货膨胀之后的数据，即budget_adj与revenue_adj。"
   ]
  },
  {
   "cell_type": "code",
   "execution_count": 5,
   "metadata": {},
   "outputs": [
    {
     "name": "stdout",
     "output_type": "stream",
     "text": [
      "<class 'pandas.core.frame.DataFrame'>\n",
      "RangeIndex: 10866 entries, 0 to 10865\n",
      "Data columns (total 8 columns):\n",
      "id              10866 non-null int64\n",
      "popularity      10866 non-null float64\n",
      "runtime         10866 non-null int64\n",
      "genres          10843 non-null object\n",
      "vote_average    10866 non-null float64\n",
      "release_year    10866 non-null int64\n",
      "budget_adj      10866 non-null float64\n",
      "revenue_adj     10866 non-null float64\n",
      "dtypes: float64(4), int64(3), object(1)\n",
      "memory usage: 679.2+ KB\n"
     ]
    }
   ],
   "source": [
    "#删除不需要的列，并查看处理后的数据基本情况\n",
    "df1 = tmdb.drop(['imdb_id', 'budget', 'revenue', 'original_title', 'cast', 'homepage', 'director', 'tagline', 'keywords', 'overview', 'production_companies', 'release_date', 'vote_count'], axis = 1)\n",
    "df1.info()"
   ]
  },
  {
   "cell_type": "markdown",
   "metadata": {},
   "source": [
    "2.处理数据冗余"
   ]
  },
  {
   "cell_type": "code",
   "execution_count": 6,
   "metadata": {},
   "outputs": [
    {
     "data": {
      "text/plain": [
       "1"
      ]
     },
     "execution_count": 6,
     "metadata": {},
     "output_type": "execute_result"
    }
   ],
   "source": [
    "#查看冗余数据个数\n",
    "sum(df1.duplicated())"
   ]
  },
  {
   "cell_type": "code",
   "execution_count": 7,
   "metadata": {},
   "outputs": [
    {
     "data": {
      "text/plain": [
       "0"
      ]
     },
     "execution_count": 7,
     "metadata": {},
     "output_type": "execute_result"
    }
   ],
   "source": [
    "#删除冗余数据个数并验证删除冗余结果\n",
    "df1.drop_duplicates(inplace = True)\n",
    "sum(df1.duplicated())"
   ]
  },
  {
   "cell_type": "markdown",
   "metadata": {},
   "source": [
    "3.空值处理  \n",
    "需要分析的数据中，genres列存在空值23个，相对于整个数据集总数来说，空值较少，删除空值对整个数据集影响不大。"
   ]
  },
  {
   "cell_type": "code",
   "execution_count": 8,
   "metadata": {},
   "outputs": [
    {
     "name": "stdout",
     "output_type": "stream",
     "text": [
      "<class 'pandas.core.frame.DataFrame'>\n",
      "Int64Index: 10842 entries, 0 to 10865\n",
      "Data columns (total 8 columns):\n",
      "id              10842 non-null int64\n",
      "popularity      10842 non-null float64\n",
      "runtime         10842 non-null int64\n",
      "genres          10842 non-null object\n",
      "vote_average    10842 non-null float64\n",
      "release_year    10842 non-null int64\n",
      "budget_adj      10842 non-null float64\n",
      "revenue_adj     10842 non-null float64\n",
      "dtypes: float64(4), int64(3), object(1)\n",
      "memory usage: 762.3+ KB\n"
     ]
    }
   ],
   "source": [
    "#删除空值\n",
    "df1.dropna(axis = 0, inplace = True)\n",
    "#查看删除空值后的结果\n",
    "df1.info()"
   ]
  },
  {
   "cell_type": "markdown",
   "metadata": {},
   "source": [
    "数据集中已经无空值，可以对此数据集进行数据探索分析"
   ]
  },
  {
   "cell_type": "markdown",
   "metadata": {},
   "source": [
    "<a id='eda'></a>\n",
    "## 探索性数据分析\n",
    "\n",
    "\n",
    "\n",
    "### 研究问题 1.对电影类别进行分析，电影类别有哪些？那种类别的电影最多？哪种类别的电影更受欢迎？"
   ]
  },
  {
   "cell_type": "markdown",
   "metadata": {},
   "source": [
    "要对数据集的电影类别进行分析，需要获取电影类别，首先查看数据集中genres列的1个值"
   ]
  },
  {
   "cell_type": "code",
   "execution_count": 9,
   "metadata": {},
   "outputs": [
    {
     "data": {
      "text/plain": [
       "'Action|Adventure|Science Fiction|Thriller'"
      ]
     },
     "execution_count": 9,
     "metadata": {},
     "output_type": "execute_result"
    }
   ],
   "source": [
    "#创建df1的副本df2，对df2进行操作\n",
    "df2 = df1.copy()\n",
    "df2['genres'][1]"
   ]
  },
  {
   "cell_type": "markdown",
   "metadata": {},
   "source": [
    "genres列包含由竖线字符“|”分隔的多个数值  \n",
    "为了获取数据集中的所有类别，可以使用set() 函数创建一个无序不重复元素集，这个集合可进行关系测试，删除重复数据，还可以计算交集、差集、并集等"
   ]
  },
  {
   "cell_type": "code",
   "execution_count": 10,
   "metadata": {},
   "outputs": [
    {
     "data": {
      "text/plain": [
       "['Thriller',\n",
       " 'History',\n",
       " 'Mystery',\n",
       " 'Fantasy',\n",
       " 'Animation',\n",
       " 'Science Fiction',\n",
       " 'Drama',\n",
       " 'TV Movie',\n",
       " 'Romance',\n",
       " 'War',\n",
       " 'Music',\n",
       " 'Comedy',\n",
       " 'Adventure',\n",
       " 'Horror',\n",
       " 'Crime',\n",
       " 'Western',\n",
       " 'Action',\n",
       " 'Family',\n",
       " 'Documentary',\n",
       " 'Foreign']"
      ]
     },
     "execution_count": 10,
     "metadata": {},
     "output_type": "execute_result"
    }
   ],
   "source": [
    "#创建一个set()，使用for循环，使用union(联合)取并集set(a).union(b)\n",
    "all_genres = set()\n",
    "for genre in df2['genres'].str.split('|'):\n",
    "    all_genres = set().union(genre, all_genres)\n",
    "#将all_genres转换为列表\n",
    "all_genres = list(all_genres)\n",
    "all_genres"
   ]
  },
  {
   "cell_type": "markdown",
   "metadata": {},
   "source": [
    "输出的 all_genres 表示了此数据集中的所有电影类别，将这些电影类别当做列添加至原数据集中，获取每一部电影的类别"
   ]
  },
  {
   "cell_type": "code",
   "execution_count": 11,
   "metadata": {},
   "outputs": [
    {
     "data": {
      "text/html": [
       "<div>\n",
       "<style scoped>\n",
       "    .dataframe tbody tr th:only-of-type {\n",
       "        vertical-align: middle;\n",
       "    }\n",
       "\n",
       "    .dataframe tbody tr th {\n",
       "        vertical-align: top;\n",
       "    }\n",
       "\n",
       "    .dataframe thead th {\n",
       "        text-align: right;\n",
       "    }\n",
       "</style>\n",
       "<table border=\"1\" class=\"dataframe\">\n",
       "  <thead>\n",
       "    <tr style=\"text-align: right;\">\n",
       "      <th></th>\n",
       "      <th>id</th>\n",
       "      <th>popularity</th>\n",
       "      <th>runtime</th>\n",
       "      <th>genres</th>\n",
       "      <th>vote_average</th>\n",
       "      <th>release_year</th>\n",
       "      <th>budget_adj</th>\n",
       "      <th>revenue_adj</th>\n",
       "      <th>Thriller</th>\n",
       "      <th>History</th>\n",
       "      <th>...</th>\n",
       "      <th>Music</th>\n",
       "      <th>Comedy</th>\n",
       "      <th>Adventure</th>\n",
       "      <th>Horror</th>\n",
       "      <th>Crime</th>\n",
       "      <th>Western</th>\n",
       "      <th>Action</th>\n",
       "      <th>Family</th>\n",
       "      <th>Documentary</th>\n",
       "      <th>Foreign</th>\n",
       "    </tr>\n",
       "  </thead>\n",
       "  <tbody>\n",
       "    <tr>\n",
       "      <th>0</th>\n",
       "      <td>135397</td>\n",
       "      <td>32.985763</td>\n",
       "      <td>124</td>\n",
       "      <td>Action|Adventure|Science Fiction|Thriller</td>\n",
       "      <td>6.5</td>\n",
       "      <td>2015</td>\n",
       "      <td>1.379999e+08</td>\n",
       "      <td>1.392446e+09</td>\n",
       "      <td>1</td>\n",
       "      <td>0</td>\n",
       "      <td>...</td>\n",
       "      <td>0</td>\n",
       "      <td>0</td>\n",
       "      <td>1</td>\n",
       "      <td>0</td>\n",
       "      <td>0</td>\n",
       "      <td>0</td>\n",
       "      <td>1</td>\n",
       "      <td>0</td>\n",
       "      <td>0</td>\n",
       "      <td>0</td>\n",
       "    </tr>\n",
       "  </tbody>\n",
       "</table>\n",
       "<p>1 rows × 28 columns</p>\n",
       "</div>"
      ],
      "text/plain": [
       "       id  popularity  runtime                                     genres  \\\n",
       "0  135397   32.985763      124  Action|Adventure|Science Fiction|Thriller   \n",
       "\n",
       "   vote_average  release_year    budget_adj   revenue_adj  Thriller  History  \\\n",
       "0           6.5          2015  1.379999e+08  1.392446e+09         1        0   \n",
       "\n",
       "    ...     Music  Comedy  Adventure  Horror  Crime  Western  Action  Family  \\\n",
       "0   ...         0       0          1       0      0        0       1       0   \n",
       "\n",
       "   Documentary  Foreign  \n",
       "0            0        0  \n",
       "\n",
       "[1 rows x 28 columns]"
      ]
     },
     "execution_count": 11,
     "metadata": {},
     "output_type": "execute_result"
    }
   ],
   "source": [
    "#使用for循环，获取每个电影的类型，该电影包含哪个类型，就返回1，否则返回0\n",
    "for genre in all_genres:\n",
    "    df2[genre] = df2['genres'].str.contains(genre).apply(lambda x: 1 if x else 0)\n",
    "#查看结果\n",
    "df2.head(1)"
   ]
  },
  {
   "cell_type": "markdown",
   "metadata": {},
   "source": [
    "创建新的DataFrame，删除原genres列"
   ]
  },
  {
   "cell_type": "code",
   "execution_count": 12,
   "metadata": {},
   "outputs": [
    {
     "data": {
      "text/html": [
       "<div>\n",
       "<style scoped>\n",
       "    .dataframe tbody tr th:only-of-type {\n",
       "        vertical-align: middle;\n",
       "    }\n",
       "\n",
       "    .dataframe tbody tr th {\n",
       "        vertical-align: top;\n",
       "    }\n",
       "\n",
       "    .dataframe thead th {\n",
       "        text-align: right;\n",
       "    }\n",
       "</style>\n",
       "<table border=\"1\" class=\"dataframe\">\n",
       "  <thead>\n",
       "    <tr style=\"text-align: right;\">\n",
       "      <th></th>\n",
       "      <th>id</th>\n",
       "      <th>popularity</th>\n",
       "      <th>runtime</th>\n",
       "      <th>vote_average</th>\n",
       "      <th>release_year</th>\n",
       "      <th>budget_adj</th>\n",
       "      <th>revenue_adj</th>\n",
       "      <th>Thriller</th>\n",
       "      <th>History</th>\n",
       "      <th>Mystery</th>\n",
       "      <th>...</th>\n",
       "      <th>Music</th>\n",
       "      <th>Comedy</th>\n",
       "      <th>Adventure</th>\n",
       "      <th>Horror</th>\n",
       "      <th>Crime</th>\n",
       "      <th>Western</th>\n",
       "      <th>Action</th>\n",
       "      <th>Family</th>\n",
       "      <th>Documentary</th>\n",
       "      <th>Foreign</th>\n",
       "    </tr>\n",
       "  </thead>\n",
       "  <tbody>\n",
       "    <tr>\n",
       "      <th>0</th>\n",
       "      <td>135397</td>\n",
       "      <td>32.985763</td>\n",
       "      <td>124</td>\n",
       "      <td>6.5</td>\n",
       "      <td>2015</td>\n",
       "      <td>1.379999e+08</td>\n",
       "      <td>1.392446e+09</td>\n",
       "      <td>1</td>\n",
       "      <td>0</td>\n",
       "      <td>0</td>\n",
       "      <td>...</td>\n",
       "      <td>0</td>\n",
       "      <td>0</td>\n",
       "      <td>1</td>\n",
       "      <td>0</td>\n",
       "      <td>0</td>\n",
       "      <td>0</td>\n",
       "      <td>1</td>\n",
       "      <td>0</td>\n",
       "      <td>0</td>\n",
       "      <td>0</td>\n",
       "    </tr>\n",
       "  </tbody>\n",
       "</table>\n",
       "<p>1 rows × 27 columns</p>\n",
       "</div>"
      ],
      "text/plain": [
       "       id  popularity  runtime  vote_average  release_year    budget_adj  \\\n",
       "0  135397   32.985763      124           6.5          2015  1.379999e+08   \n",
       "\n",
       "    revenue_adj  Thriller  History  Mystery   ...     Music  Comedy  \\\n",
       "0  1.392446e+09         1        0        0   ...         0       0   \n",
       "\n",
       "   Adventure  Horror  Crime  Western  Action  Family  Documentary  Foreign  \n",
       "0          1       0      0        0       1       0            0        0  \n",
       "\n",
       "[1 rows x 27 columns]"
      ]
     },
     "execution_count": 12,
     "metadata": {},
     "output_type": "execute_result"
    }
   ],
   "source": [
    "df_genres = df2.drop('genres', axis =1)\n",
    "df_genres.head(1)"
   ]
  },
  {
   "cell_type": "markdown",
   "metadata": {},
   "source": [
    "计算整个数据集中的各种电影类别的总数，并降序排列，绘制各种电影类别数量的横向条形图"
   ]
  },
  {
   "cell_type": "code",
   "execution_count": 13,
   "metadata": {},
   "outputs": [
    {
     "data": {
      "image/png": "[encoded data removed]",
      "text/plain": [
       "<Figure size 864x720 with 1 Axes>"
      ]
     },
     "metadata": {
      "needs_background": "light"
     },
     "output_type": "display_data"
    }
   ],
   "source": [
    "#使用sort_values()方法对汇总后的数据进行降序排列\n",
    "df_genres_sum = df_genres.loc[:, all_genres].sum().sort_values(ascending=True)\n",
    "df_genres_sum.plot.barh(label = 'all_genres', figsize = (12,10))\n",
    "plt.title('各电影类别数量条形图', fontsize =15)\n",
    "plt.ylabel('电影类别', fontsize = 15)\n",
    "plt.xlabel('数量', fontsize = 15)\n",
    "plt.show()"
   ]
  },
  {
   "cell_type": "markdown",
   "metadata": {},
   "source": [
    "绘制饼图查看各类别的占比情况"
   ]
  },
  {
   "cell_type": "code",
   "execution_count": 14,
   "metadata": {},
   "outputs": [
    {
     "data": {
      "image/png": "[encoded data removed]",
      "text/plain": [
       "<Figure size 720x720 with 1 Axes>"
      ]
     },
     "metadata": {},
     "output_type": "display_data"
    }
   ],
   "source": [
    "#计算各种类型所占比例\n",
    "proportion = df_genres_sum/ df_genres_sum.sum()\n",
    "#所占比例大于0.06时，突出显示\n",
    "explode = (proportion > 0.06)/ 20 + 0.02\n",
    "#设置饼图参数\n",
    "df_genres_sum.plot.pie(autopct = '%1.1f%%', figsize = (10,10), label = '', explode = explode)\n",
    "plt.title('各电影类别占比', fontsize = 15)\n",
    "plt.show()"
   ]
  },
  {
   "cell_type": "markdown",
   "metadata": {},
   "source": [
    "继续分析各个电影类别的受欢迎程度，首先计算每种电影类别的受欢迎程度(popularity)的均值"
   ]
  },
  {
   "cell_type": "code",
   "execution_count": 15,
   "metadata": {},
   "outputs": [
    {
     "data": {
      "text/html": [
       "<div>\n",
       "<style scoped>\n",
       "    .dataframe tbody tr th:only-of-type {\n",
       "        vertical-align: middle;\n",
       "    }\n",
       "\n",
       "    .dataframe tbody tr th {\n",
       "        vertical-align: top;\n",
       "    }\n",
       "\n",
       "    .dataframe thead th {\n",
       "        text-align: right;\n",
       "    }\n",
       "</style>\n",
       "<table border=\"1\" class=\"dataframe\">\n",
       "  <thead>\n",
       "    <tr style=\"text-align: right;\">\n",
       "      <th></th>\n",
       "      <th>popularity_mean</th>\n",
       "    </tr>\n",
       "  </thead>\n",
       "  <tbody>\n",
       "    <tr>\n",
       "      <th>Thriller</th>\n",
       "      <td>0.741563</td>\n",
       "    </tr>\n",
       "  </tbody>\n",
       "</table>\n",
       "</div>"
      ],
      "text/plain": [
       "          popularity_mean\n",
       "Thriller         0.741563"
      ]
     },
     "execution_count": 15,
     "metadata": {},
     "output_type": "execute_result"
    }
   ],
   "source": [
    "#创建新的DataFrame，以各个电影类别作为索引，列数据为该类型popularity均值\n",
    "df_genres_pop = pd.DataFrame(index = all_genres)\n",
    "#求每种类别的平均受欢迎程度\n",
    "#建立一个列表list，储存该类别对应两种情况0,1的popularity的均值\n",
    "#使用for循环遍历所有类别，使用list.append()方法在列表末尾添加对应值0,1的popularity均值\n",
    "list = []\n",
    "for genre in all_genres:\n",
    "    list.append(df_genres.groupby(genre)['popularity'].mean())\n",
    "#创建一个列表，使用range(len(list1))遍历list，取list中每个类别值为1的popularity均值\n",
    "list2=[]\n",
    "for i in range(len(all_genres)):\n",
    "    list2.append(list[i][1])\n",
    "df_genres_pop['popularity_mean'] = list2\n",
    "df_genres_pop.head(1)"
   ]
  },
  {
   "cell_type": "markdown",
   "metadata": {},
   "source": [
    "对各种类别的popularity_mean降序排列后，绘制各个电影类别的受欢迎程度横向条形图"
   ]
  },
  {
   "cell_type": "code",
   "execution_count": 16,
   "metadata": {},
   "outputs": [
    {
     "data": {
      "image/png": "[encoded data removed]",
      "text/plain": [
       "<Figure size 864x720 with 1 Axes>"
      ]
     },
     "metadata": {
      "needs_background": "light"
     },
     "output_type": "display_data"
    }
   ],
   "source": [
    "df_genres_pop.sort_values(by='popularity_mean', ascending = True).plot.barh(label = 'all_genres', figsize = (12,10))\n",
    "plt.title('各电影类别平均受欢迎程度', fontsize = 15)\n",
    "plt.ylabel('电影类别', fontsize = 15)\n",
    "plt.xlabel('平均受欢迎程度', fontsize = 15)\n",
    "plt.show()"
   ]
  },
  {
   "cell_type": "markdown",
   "metadata": {},
   "source": [
    "从条形图可以看出，Adventure类的电影最受欢迎，其次是Science Fiction。"
   ]
  },
  {
   "cell_type": "markdown",
   "metadata": {},
   "source": [
    "### 研究问题 2.票房高的电影有哪些特点？"
   ]
  },
  {
   "cell_type": "markdown",
   "metadata": {},
   "source": [
    "选取收入大于平均收入的数据作为高票房数据，对这些数据进行分析"
   ]
  },
  {
   "cell_type": "code",
   "execution_count": 17,
   "metadata": {},
   "outputs": [
    {
     "data": {
      "text/html": [
       "<div>\n",
       "<style scoped>\n",
       "    .dataframe tbody tr th:only-of-type {\n",
       "        vertical-align: middle;\n",
       "    }\n",
       "\n",
       "    .dataframe tbody tr th {\n",
       "        vertical-align: top;\n",
       "    }\n",
       "\n",
       "    .dataframe thead th {\n",
       "        text-align: right;\n",
       "    }\n",
       "</style>\n",
       "<table border=\"1\" class=\"dataframe\">\n",
       "  <thead>\n",
       "    <tr style=\"text-align: right;\">\n",
       "      <th></th>\n",
       "      <th>id</th>\n",
       "      <th>popularity</th>\n",
       "      <th>runtime</th>\n",
       "      <th>genres</th>\n",
       "      <th>vote_average</th>\n",
       "      <th>release_year</th>\n",
       "      <th>budget_adj</th>\n",
       "      <th>revenue_adj</th>\n",
       "    </tr>\n",
       "  </thead>\n",
       "  <tbody>\n",
       "    <tr>\n",
       "      <th>0</th>\n",
       "      <td>135397</td>\n",
       "      <td>32.985763</td>\n",
       "      <td>124</td>\n",
       "      <td>Action|Adventure|Science Fiction|Thriller</td>\n",
       "      <td>6.5</td>\n",
       "      <td>2015</td>\n",
       "      <td>1.379999e+08</td>\n",
       "      <td>1.392446e+09</td>\n",
       "    </tr>\n",
       "  </tbody>\n",
       "</table>\n",
       "</div>"
      ],
      "text/plain": [
       "       id  popularity  runtime                                     genres  \\\n",
       "0  135397   32.985763      124  Action|Adventure|Science Fiction|Thriller   \n",
       "\n",
       "   vote_average  release_year    budget_adj   revenue_adj  \n",
       "0           6.5          2015  1.379999e+08  1.392446e+09  "
      ]
     },
     "execution_count": 17,
     "metadata": {},
     "output_type": "execute_result"
    }
   ],
   "source": [
    "df_highreveue = df1[df1['revenue_adj'] > (df1['revenue_adj'].mean())]\n",
    "df_highreveue.head(1)"
   ]
  },
  {
   "cell_type": "markdown",
   "metadata": {},
   "source": [
    "查看原数据集中的统计描述"
   ]
  },
  {
   "cell_type": "code",
   "execution_count": 18,
   "metadata": {},
   "outputs": [
    {
     "data": {
      "text/html": [
       "<div>\n",
       "<style scoped>\n",
       "    .dataframe tbody tr th:only-of-type {\n",
       "        vertical-align: middle;\n",
       "    }\n",
       "\n",
       "    .dataframe tbody tr th {\n",
       "        vertical-align: top;\n",
       "    }\n",
       "\n",
       "    .dataframe thead th {\n",
       "        text-align: right;\n",
       "    }\n",
       "</style>\n",
       "<table border=\"1\" class=\"dataframe\">\n",
       "  <thead>\n",
       "    <tr style=\"text-align: right;\">\n",
       "      <th></th>\n",
       "      <th>id</th>\n",
       "      <th>popularity</th>\n",
       "      <th>runtime</th>\n",
       "      <th>vote_average</th>\n",
       "      <th>release_year</th>\n",
       "      <th>budget_adj</th>\n",
       "      <th>revenue_adj</th>\n",
       "    </tr>\n",
       "  </thead>\n",
       "  <tbody>\n",
       "    <tr>\n",
       "      <th>count</th>\n",
       "      <td>10842.000000</td>\n",
       "      <td>10842.000000</td>\n",
       "      <td>10842.000000</td>\n",
       "      <td>10842.000000</td>\n",
       "      <td>10842.000000</td>\n",
       "      <td>1.084200e+04</td>\n",
       "      <td>1.084200e+04</td>\n",
       "    </tr>\n",
       "    <tr>\n",
       "      <th>mean</th>\n",
       "      <td>65870.675521</td>\n",
       "      <td>0.647461</td>\n",
       "      <td>102.138443</td>\n",
       "      <td>5.974064</td>\n",
       "      <td>2001.314794</td>\n",
       "      <td>1.758712e+07</td>\n",
       "      <td>5.147797e+07</td>\n",
       "    </tr>\n",
       "    <tr>\n",
       "      <th>std</th>\n",
       "      <td>91981.355752</td>\n",
       "      <td>1.001032</td>\n",
       "      <td>31.294612</td>\n",
       "      <td>0.934257</td>\n",
       "      <td>12.813617</td>\n",
       "      <td>3.433437e+07</td>\n",
       "      <td>1.447723e+08</td>\n",
       "    </tr>\n",
       "    <tr>\n",
       "      <th>min</th>\n",
       "      <td>5.000000</td>\n",
       "      <td>0.000065</td>\n",
       "      <td>0.000000</td>\n",
       "      <td>1.500000</td>\n",
       "      <td>1960.000000</td>\n",
       "      <td>0.000000e+00</td>\n",
       "      <td>0.000000e+00</td>\n",
       "    </tr>\n",
       "    <tr>\n",
       "      <th>25%</th>\n",
       "      <td>10589.250000</td>\n",
       "      <td>0.208210</td>\n",
       "      <td>90.000000</td>\n",
       "      <td>5.400000</td>\n",
       "      <td>1995.000000</td>\n",
       "      <td>0.000000e+00</td>\n",
       "      <td>0.000000e+00</td>\n",
       "    </tr>\n",
       "    <tr>\n",
       "      <th>50%</th>\n",
       "      <td>20557.000000</td>\n",
       "      <td>0.384532</td>\n",
       "      <td>99.000000</td>\n",
       "      <td>6.000000</td>\n",
       "      <td>2006.000000</td>\n",
       "      <td>0.000000e+00</td>\n",
       "      <td>0.000000e+00</td>\n",
       "    </tr>\n",
       "    <tr>\n",
       "      <th>75%</th>\n",
       "      <td>75186.000000</td>\n",
       "      <td>0.715393</td>\n",
       "      <td>111.000000</td>\n",
       "      <td>6.600000</td>\n",
       "      <td>2011.000000</td>\n",
       "      <td>2.092507e+07</td>\n",
       "      <td>3.387838e+07</td>\n",
       "    </tr>\n",
       "    <tr>\n",
       "      <th>max</th>\n",
       "      <td>417859.000000</td>\n",
       "      <td>32.985763</td>\n",
       "      <td>900.000000</td>\n",
       "      <td>9.200000</td>\n",
       "      <td>2015.000000</td>\n",
       "      <td>4.250000e+08</td>\n",
       "      <td>2.827124e+09</td>\n",
       "    </tr>\n",
       "  </tbody>\n",
       "</table>\n",
       "</div>"
      ],
      "text/plain": [
       "                  id    popularity       runtime  vote_average  release_year  \\\n",
       "count   10842.000000  10842.000000  10842.000000  10842.000000  10842.000000   \n",
       "mean    65870.675521      0.647461    102.138443      5.974064   2001.314794   \n",
       "std     91981.355752      1.001032     31.294612      0.934257     12.813617   \n",
       "min         5.000000      0.000065      0.000000      1.500000   1960.000000   \n",
       "25%     10589.250000      0.208210     90.000000      5.400000   1995.000000   \n",
       "50%     20557.000000      0.384532     99.000000      6.000000   2006.000000   \n",
       "75%     75186.000000      0.715393    111.000000      6.600000   2011.000000   \n",
       "max    417859.000000     32.985763    900.000000      9.200000   2015.000000   \n",
       "\n",
       "         budget_adj   revenue_adj  \n",
       "count  1.084200e+04  1.084200e+04  \n",
       "mean   1.758712e+07  5.147797e+07  \n",
       "std    3.433437e+07  1.447723e+08  \n",
       "min    0.000000e+00  0.000000e+00  \n",
       "25%    0.000000e+00  0.000000e+00  \n",
       "50%    0.000000e+00  0.000000e+00  \n",
       "75%    2.092507e+07  3.387838e+07  \n",
       "max    4.250000e+08  2.827124e+09  "
      ]
     },
     "execution_count": 18,
     "metadata": {},
     "output_type": "execute_result"
    }
   ],
   "source": [
    "df1.describe()"
   ]
  },
  {
   "cell_type": "markdown",
   "metadata": {},
   "source": [
    "查看高票房数据集中的统计描述"
   ]
  },
  {
   "cell_type": "code",
   "execution_count": 19,
   "metadata": {},
   "outputs": [
    {
     "data": {
      "text/html": [
       "<div>\n",
       "<style scoped>\n",
       "    .dataframe tbody tr th:only-of-type {\n",
       "        vertical-align: middle;\n",
       "    }\n",
       "\n",
       "    .dataframe tbody tr th {\n",
       "        vertical-align: top;\n",
       "    }\n",
       "\n",
       "    .dataframe thead th {\n",
       "        text-align: right;\n",
       "    }\n",
       "</style>\n",
       "<table border=\"1\" class=\"dataframe\">\n",
       "  <thead>\n",
       "    <tr style=\"text-align: right;\">\n",
       "      <th></th>\n",
       "      <th>id</th>\n",
       "      <th>popularity</th>\n",
       "      <th>runtime</th>\n",
       "      <th>vote_average</th>\n",
       "      <th>release_year</th>\n",
       "      <th>budget_adj</th>\n",
       "      <th>revenue_adj</th>\n",
       "    </tr>\n",
       "  </thead>\n",
       "  <tbody>\n",
       "    <tr>\n",
       "      <th>count</th>\n",
       "      <td>2261.000000</td>\n",
       "      <td>2261.000000</td>\n",
       "      <td>2261.00000</td>\n",
       "      <td>2261.000000</td>\n",
       "      <td>2261.000000</td>\n",
       "      <td>2.261000e+03</td>\n",
       "      <td>2.261000e+03</td>\n",
       "    </tr>\n",
       "    <tr>\n",
       "      <th>mean</th>\n",
       "      <td>31956.323751</td>\n",
       "      <td>1.557742</td>\n",
       "      <td>113.05617</td>\n",
       "      <td>6.306369</td>\n",
       "      <td>1999.214065</td>\n",
       "      <td>5.830409e+07</td>\n",
       "      <td>2.282261e+08</td>\n",
       "    </tr>\n",
       "    <tr>\n",
       "      <th>std</th>\n",
       "      <td>60133.554335</td>\n",
       "      <td>1.767902</td>\n",
       "      <td>24.06729</td>\n",
       "      <td>0.735536</td>\n",
       "      <td>12.460245</td>\n",
       "      <td>5.049916e+07</td>\n",
       "      <td>2.461158e+08</td>\n",
       "    </tr>\n",
       "    <tr>\n",
       "      <th>min</th>\n",
       "      <td>11.000000</td>\n",
       "      <td>0.010335</td>\n",
       "      <td>44.00000</td>\n",
       "      <td>3.400000</td>\n",
       "      <td>1960.000000</td>\n",
       "      <td>0.000000e+00</td>\n",
       "      <td>5.152769e+07</td>\n",
       "    </tr>\n",
       "    <tr>\n",
       "      <th>25%</th>\n",
       "      <td>2157.000000</td>\n",
       "      <td>0.665367</td>\n",
       "      <td>98.00000</td>\n",
       "      <td>5.800000</td>\n",
       "      <td>1992.000000</td>\n",
       "      <td>2.203826e+07</td>\n",
       "      <td>8.361457e+07</td>\n",
       "    </tr>\n",
       "    <tr>\n",
       "      <th>50%</th>\n",
       "      <td>9919.000000</td>\n",
       "      <td>1.102836</td>\n",
       "      <td>110.00000</td>\n",
       "      <td>6.300000</td>\n",
       "      <td>2002.000000</td>\n",
       "      <td>4.466253e+07</td>\n",
       "      <td>1.421194e+08</td>\n",
       "    </tr>\n",
       "    <tr>\n",
       "      <th>75%</th>\n",
       "      <td>21845.000000</td>\n",
       "      <td>1.832434</td>\n",
       "      <td>124.00000</td>\n",
       "      <td>6.800000</td>\n",
       "      <td>2009.000000</td>\n",
       "      <td>8.102293e+07</td>\n",
       "      <td>2.682159e+08</td>\n",
       "    </tr>\n",
       "    <tr>\n",
       "      <th>max</th>\n",
       "      <td>417859.000000</td>\n",
       "      <td>32.985763</td>\n",
       "      <td>705.00000</td>\n",
       "      <td>8.300000</td>\n",
       "      <td>2015.000000</td>\n",
       "      <td>3.683713e+08</td>\n",
       "      <td>2.827124e+09</td>\n",
       "    </tr>\n",
       "  </tbody>\n",
       "</table>\n",
       "</div>"
      ],
      "text/plain": [
       "                  id   popularity     runtime  vote_average  release_year  \\\n",
       "count    2261.000000  2261.000000  2261.00000   2261.000000   2261.000000   \n",
       "mean    31956.323751     1.557742   113.05617      6.306369   1999.214065   \n",
       "std     60133.554335     1.767902    24.06729      0.735536     12.460245   \n",
       "min        11.000000     0.010335    44.00000      3.400000   1960.000000   \n",
       "25%      2157.000000     0.665367    98.00000      5.800000   1992.000000   \n",
       "50%      9919.000000     1.102836   110.00000      6.300000   2002.000000   \n",
       "75%     21845.000000     1.832434   124.00000      6.800000   2009.000000   \n",
       "max    417859.000000    32.985763   705.00000      8.300000   2015.000000   \n",
       "\n",
       "         budget_adj   revenue_adj  \n",
       "count  2.261000e+03  2.261000e+03  \n",
       "mean   5.830409e+07  2.282261e+08  \n",
       "std    5.049916e+07  2.461158e+08  \n",
       "min    0.000000e+00  5.152769e+07  \n",
       "25%    2.203826e+07  8.361457e+07  \n",
       "50%    4.466253e+07  1.421194e+08  \n",
       "75%    8.102293e+07  2.682159e+08  \n",
       "max    3.683713e+08  2.827124e+09  "
      ]
     },
     "execution_count": 19,
     "metadata": {},
     "output_type": "execute_result"
    }
   ],
   "source": [
    "df_highreveue.describe()"
   ]
  },
  {
   "cell_type": "markdown",
   "metadata": {},
   "source": [
    "对比两数据集，可以看出高票房数据集中的popularity，vote_average，budget_adj，revenue_adj的平均值都比原数据集对应的均值要高  \n",
    "\n",
    "绘制高票房数据集的popularity，runtime，vote_average，budget_adj，revenue_adj直方图查看其分布"
   ]
  },
  {
   "cell_type": "code",
   "execution_count": 20,
   "metadata": {},
   "outputs": [
    {
     "data": {
      "text/plain": [
       "array([[<matplotlib.axes._subplots.AxesSubplot object at 0x000001C39DAF1898>,\n",
       "        <matplotlib.axes._subplots.AxesSubplot object at 0x000001C39D809E10>,\n",
       "        <matplotlib.axes._subplots.AxesSubplot object at 0x000001C39D39C710>],\n",
       "       [<matplotlib.axes._subplots.AxesSubplot object at 0x000001C39D35A908>,\n",
       "        <matplotlib.axes._subplots.AxesSubplot object at 0x000001C39CF1D438>,\n",
       "        <matplotlib.axes._subplots.AxesSubplot object at 0x000001C39CF0DF60>],\n",
       "       [<matplotlib.axes._subplots.AxesSubplot object at 0x000001C39CEB35F8>,\n",
       "        <matplotlib.axes._subplots.AxesSubplot object at 0x000001C39D8068D0>,\n",
       "        <matplotlib.axes._subplots.AxesSubplot object at 0x000001C39D806908>]],\n",
       "      dtype=object)"
      ]
     },
     "execution_count": 20,
     "metadata": {},
     "output_type": "execute_result"
    },
    {
     "data": {
      "image/png": "[encoded data removed]",
      "text/plain": [
       "<Figure size 720x720 with 9 Axes>"
      ]
     },
     "metadata": {
      "needs_background": "light"
     },
     "output_type": "display_data"
    }
   ],
   "source": [
    "df_highreveue.hist(figsize = (10,10))"
   ]
  },
  {
   "cell_type": "markdown",
   "metadata": {},
   "source": [
    "通过直方图可以看出，popularity，runtime，budget_adj，revenue_adj都呈右偏分布，vote_average大致呈正态分布  \n",
    "\n",
    "绘制popularity，runtime，vote_average，budget_adj与revenue_adj的散点图，查看他们之间的关系\n",
    "\n",
    "1. 绘制电影受欢迎程度与票房的散点图"
   ]
  },
  {
   "cell_type": "code",
   "execution_count": 21,
   "metadata": {},
   "outputs": [
    {
     "data": {
      "image/png": "[encoded data removed]",
      "text/plain": [
       "<Figure size 432x288 with 1 Axes>"
      ]
     },
     "metadata": {
      "needs_background": "light"
     },
     "output_type": "display_data"
    }
   ],
   "source": [
    "plt.scatter(x = df_highreveue.popularity, y = df_highreveue.revenue_adj)\n",
    "plt.ylabel('票房', fontsize = 15)\n",
    "plt.xlabel('受欢迎程度', fontsize = 15)\n",
    "plt.title('电影受欢迎程度与票房散点图', fontsize = 15)\n",
    "plt.show()"
   ]
  },
  {
   "cell_type": "markdown",
   "metadata": {},
   "source": [
    "2. 绘制电影时长与票房的散点图"
   ]
  },
  {
   "cell_type": "code",
   "execution_count": 22,
   "metadata": {},
   "outputs": [
    {
     "data": {
      "image/png": "[encoded data removed]",
      "text/plain": [
       "<Figure size 432x288 with 1 Axes>"
      ]
     },
     "metadata": {
      "needs_background": "light"
     },
     "output_type": "display_data"
    }
   ],
   "source": [
    "plt.scatter(x = df_highreveue.runtime, y = df_highreveue.revenue_adj)\n",
    "plt.ylabel('票房', fontsize = 15)\n",
    "plt.xlabel('电影时长', fontsize = 15)\n",
    "plt.title('电影时长与票房散点图', fontsize = 15)\n",
    "plt.show()"
   ]
  },
  {
   "cell_type": "markdown",
   "metadata": {},
   "source": [
    "3. 绘制电影评分与票房的散点图"
   ]
  },
  {
   "cell_type": "code",
   "execution_count": 23,
   "metadata": {},
   "outputs": [
    {
     "data": {
      "image/png": "[encoded data removed]",
      "text/plain": [
       "<Figure size 432x288 with 1 Axes>"
      ]
     },
     "metadata": {
      "needs_background": "light"
     },
     "output_type": "display_data"
    }
   ],
   "source": [
    "plt.scatter(x = df_highreveue.vote_average, y = df_highreveue.revenue_adj)\n",
    "plt.ylabel('票房', fontsize = 15)\n",
    "plt.xlabel('电影评分', fontsize = 15)\n",
    "plt.title('电影评分与票房散点图', fontsize = 15)\n",
    "plt.show()"
   ]
  },
  {
   "cell_type": "markdown",
   "metadata": {},
   "source": [
    "4. 绘制电影预算与票房的散点图"
   ]
  },
  {
   "cell_type": "code",
   "execution_count": 24,
   "metadata": {},
   "outputs": [
    {
     "data": {
      "image/png": "[encoded data removed]",
      "text/plain": [
       "<Figure size 432x288 with 1 Axes>"
      ]
     },
     "metadata": {
      "needs_background": "light"
     },
     "output_type": "display_data"
    }
   ],
   "source": [
    "plt.scatter(x = df_highreveue.budget_adj, y = df_highreveue.revenue_adj)\n",
    "plt.ylabel('票房', fontsize = 15)\n",
    "plt.xlabel('预算', fontsize = 15)\n",
    "plt.title('电影预算与票房散点图', fontsize = 15)\n",
    "plt.show()"
   ]
  },
  {
   "cell_type": "markdown",
   "metadata": {},
   "source": [
    "<a id='conclusions'></a>\n",
    "## 结论\n"
   ]
  },
  {
   "cell_type": "markdown",
   "metadata": {},
   "source": [
    "### 对于问题1\n",
    "- 输出的 all_genres 表示了此数据集中的所有电影类别，一共20种，分别是:  \n",
    "  Western,Family,Crime,Music,Adventure,Romance,Mystery,Foreign,Thriller,Drama,  \n",
    "  War,Comedy,Horror,Animation,Science,Fiction,Documentary,History,Fantasy,Action,TV,Movie\n",
    "- 根据各电影类别条形图的显示结果，Drama类的电影最多。\n",
    "- 通过各电影类别占比饼图可以看出，数量最多的前三种电影类别为Drama，占比17.7%，Comedy，占比14.1%，Thriller，占比10.8% 。  \n",
    "- 从各电影类别平均受欢迎程度条形图可以看出，Adventure类的电影最受欢迎，其次是Science Fiction。"
   ]
  },
  {
   "cell_type": "markdown",
   "metadata": {},
   "source": [
    "### 对于问题2\n",
    "- 根据电影受欢迎程度与票房的散点图，在票房高的电影中，电影受欢迎程度与票房大致是正相关关系，但是不排除有一些异常值存在。\n",
    "- 根据电影时长与票房的散点图，电影时长与票房无明显关系。\n",
    "- 根据电影评分与票房散点图，在票房高的电影中，电影评分与电影票房呈正相关关系，电影评分越高，相应的票房也越高，但是不排除有一些异常值存在。\n",
    "- 根据电影预算与票房散点图，电影预算与票房大致是正相关关系，电影票房越高，相应的电影预算越高，但是不排除有一些异常值存在。  "
   ]
  },
  {
   "cell_type": "markdown",
   "metadata": {},
   "source": [
    "### 总结\n",
    "本报告对TMDB电影数据集的电影类型和进行了初步分析，并得出了一些结论，在电影票房的特点结果中，出现了一些无法避免的异常值存在，并且在整个原始数据集中，共有30条'runtime' = 0 的数据，5674条'budget_adj' = 0的数据，5993条'revenue_adj' = 0的数据，真实情况下不会存在电影时长为0，电影预算为0，电影票房为0的数据，这些数据可能会对分析结果造成影响。"
   ]
  },
  {
   "cell_type": "code",
   "execution_count": 25,
   "metadata": {},
   "outputs": [
    {
     "data": {
      "text/plain": [
       "4294967295"
      ]
     },
     "execution_count": 25,
     "metadata": {},
     "output_type": "execute_result"
    }
   ],
   "source": [
    "from subprocess import call\n",
    "call(['python', '-m', 'nbconvert', 'Investigate_a_Dataset.ipynb'])"
   ]
  },
  {
   "cell_type": "code",
   "execution_count": null,
   "metadata": {},
   "outputs": [],
   "source": []
  }
 ],
 "metadata": {
  "kernelspec": {
   "display_name": "Python 3",
   "language": "python",
   "name": "python3"
  },
  "language_info": {
   "codemirror_mode": {
    "name": "ipython",
    "version": 3
   },
   "file_extension": ".py",
   "mimetype": "text/x-python",
   "name": "python",
   "nbconvert_exporter": "python",
   "pygments_lexer": "ipython3",
   "version": "3.7.7"
  }
 },
 "nbformat": 4,
 "nbformat_minor": 4
}
